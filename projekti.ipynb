{
 "cells": [
  {
   "cell_type": "code",
   "execution_count": 2,
   "metadata": {},
   "outputs": [],
   "source": [
    "#Laura N ottaa gender, age\n",
    "#Laura S ottaa family, years of service\n",
    "#Aada ottaa education, salary\n",
    "#pöö\n",
    "\n",
    "\n",
    "import numpy as np\n",
    "import pandas as pd\n",
    "import matplotlib.pyplot as plt\n",
    "import seaborn as sns\n",
    "\n",
    "\n",
    "df = pd.read_csv(\"WorkPlaceSatisfactionSurveyData.xlsx - Data.csv\")\n",
    "df = df.drop(columns=[\"number\",\"holidayCabin\",\"gym\", \"muscleCare\",\"healthCare\"], errors=\"ignore\")\n",
    "\n",
    "\n",
    "\n"
   ]
  },
  {
   "cell_type": "code",
   "execution_count": 5,
   "metadata": {},
   "outputs": [
    {
     "name": "stdout",
     "output_type": "stream",
     "text": [
      "Ensimmäiset rivit:\n",
      "   number  gender  age  family  education  years_of_service  salary  \\\n",
      "0       1       1   38       1        1.0              22.0    3587   \n",
      "1       2       1   29       2        2.0              10.0    2963   \n",
      "2       3       1   30       1        1.0               7.0    1989   \n",
      "3       4       1   36       2        1.0              14.0    2144   \n",
      "4       5       1   24       1        2.0               4.0    2183   \n",
      "\n",
      "   sat_management  sat_colleques  sat_workingEnvironment  sat_salary  \\\n",
      "0               3            3.0                       3           3   \n",
      "1               1            5.0                       2           1   \n",
      "2               3            4.0                       1           1   \n",
      "3               3            3.0                       3           3   \n",
      "4               2            3.0                       2           1   \n",
      "\n",
      "   sat_tasks  healtcare  holidayCabin  gym  muscleCare  \n",
      "0          3        NaN           NaN  NaN         NaN  \n",
      "1          3        NaN           NaN  NaN         NaN  \n",
      "2          3        1.0           NaN  NaN         NaN  \n",
      "3          3        1.0           NaN  NaN         NaN  \n",
      "4          2        1.0           NaN  NaN         NaN  \n",
      "\n",
      "Info:\n",
      "<class 'pandas.core.frame.DataFrame'>\n",
      "RangeIndex: 82 entries, 0 to 81\n",
      "Data columns (total 16 columns):\n",
      " #   Column                  Non-Null Count  Dtype  \n",
      "---  ------                  --------------  -----  \n",
      " 0   number                  82 non-null     int64  \n",
      " 1   gender                  82 non-null     int64  \n",
      " 2   age                     82 non-null     int64  \n",
      " 3   family                  82 non-null     int64  \n",
      " 4   education               81 non-null     float64\n",
      " 5   years_of_service        80 non-null     float64\n",
      " 6   salary                  82 non-null     int64  \n",
      " 7   sat_management          82 non-null     int64  \n",
      " 8   sat_colleques           81 non-null     float64\n",
      " 9   sat_workingEnvironment  82 non-null     int64  \n",
      " 10  sat_salary              82 non-null     int64  \n",
      " 11  sat_tasks               82 non-null     int64  \n",
      " 12  healtcare               47 non-null     float64\n",
      " 13  holidayCabin            20 non-null     float64\n",
      " 14  gym                     9 non-null      float64\n",
      " 15  muscleCare              22 non-null     float64\n",
      "dtypes: float64(7), int64(9)\n",
      "memory usage: 10.4 KB\n",
      "None\n"
     ]
    }
   ],
   "source": [
    "print(\"Ensimmäiset rivit:\")\n",
    "print(df.head())\n",
    "print(\"\\nInfo:\")\n",
    "print(df.info())"
   ]
  },
  {
   "cell_type": "code",
   "execution_count": 3,
   "metadata": {},
   "outputs": [
    {
     "name": "stdout",
     "output_type": "stream",
     "text": [
      "\n",
      "Puuttuvat arvot per muuttuja:\n",
      "number                     0\n",
      "gender                     0\n",
      "age                        0\n",
      "family                     0\n",
      "education                  1\n",
      "years_of_service           2\n",
      "salary                     0\n",
      "sat_management             0\n",
      "sat_colleques              1\n",
      "sat_workingEnvironment     0\n",
      "sat_salary                 0\n",
      "sat_tasks                  0\n",
      "healtcare                 35\n",
      "holidayCabin              62\n",
      "gym                       73\n",
      "muscleCare                60\n",
      "dtype: int64\n"
     ]
    }
   ],
   "source": [
    "print(\"\\nPuuttuvat arvot per muuttuja:\")\n",
    "print(df.isna().sum())"
   ]
  }
 ],
 "metadata": {
  "kernelspec": {
   "display_name": "Python 3",
   "language": "python",
   "name": "python3"
  },
  "language_info": {
   "codemirror_mode": {
    "name": "ipython",
    "version": 3
   },
   "file_extension": ".py",
   "mimetype": "text/x-python",
   "name": "python",
   "nbconvert_exporter": "python",
   "pygments_lexer": "ipython3",
   "version": "3.13.0"
  }
 },
 "nbformat": 4,
 "nbformat_minor": 2
}
